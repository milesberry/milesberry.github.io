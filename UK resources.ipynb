{
 "cells": [
  {
   "cell_type": "markdown",
   "metadata": {},
   "source": [
    "# UK computing resources\n",
    "\n",
    "## Miles Berry\n",
    "\n",
    "#CSTA2017\n",
    "\n",
    "Some example programs in Python. Slides at [bit.ly/csta2017](http://bit.ly/csta2017)"
   ]
  },
  {
   "cell_type": "markdown",
   "metadata": {},
   "source": [
    "### A partial solution to Rock, Paper, Scissors\n",
    "\n",
    "Developed from this Code Club Python project"
   ]
  },
  {
   "cell_type": "code",
   "execution_count": null,
   "metadata": {
    "collapsed": true
   },
   "outputs": [],
   "source": [
    "from random import choice\n",
    "options = [\"r\",\"p\",\"s\"]\n",
    "player = input('rock (r), paper (p) or scissors (s)?')\n",
    "if player in options:\n",
    "    print(player, end=' ')\n",
    "else:\n",
    "    print('??', end=' ')\n",
    "print('vs', end=' ')\n",
    "computer = choice(options)\n",
    "print(computer)\n",
    "if player == computer:\n",
    "  print('DRAW!')\n",
    "elif player == 'r' and computer == 's':\n",
    "  print('Player wins!')\n",
    "  \n",
    "# insert more code here!\n",
    "\n",
    "else:\n",
    "  print('Huh?')\n",
    "  "
   ]
  },
  {
   "cell_type": "markdown",
   "metadata": {},
   "source": [
    "### A function to find the factors of a number\n",
    "\n",
    "Linked to [this resource on public key cryptography](https://projects.raspberrypi.org/en/projects/rpi-python-octapi-public-key-cryptography) from the Raspberry Pi Foundation."
   ]
  },
  {
   "cell_type": "code",
   "execution_count": null,
   "metadata": {
    "collapsed": true
   },
   "outputs": [],
   "source": [
    "def factors(n):\n",
    "    list = []\n",
    "    i = 1\n",
    "    while i * i < n:\n",
    "        if n % i == 0:\n",
    "            list.extend([i, n // i])\n",
    "        i += 1\n",
    "    if i * i == n:\n",
    "        list.append(i)\n",
    "    return sorted(list)"
   ]
  },
  {
   "cell_type": "code",
   "execution_count": null,
   "metadata": {
    "collapsed": true
   },
   "outputs": [],
   "source": [
    "factors(8191)"
   ]
  },
  {
   "cell_type": "markdown",
   "metadata": {},
   "source": [
    "### An implementation of Cows and Bulls\n",
    "\n",
    "In response to [this AQA specimen NEA](http://filestore.aqa.org.uk/resources/computing/AQA-85203-SNEA2.PDF) for GCSE:\n",
    "    \n",
    "> Cows and Bulls is a guessing game where the player tries to guess a number that has been randomly\n",
    "generated. The randomly generated number must contain exactly four digits between 0 and 9 with no\n",
    "duplicates. An example of a valid randomly-generated number is 1234. An example of an invalid\n",
    "randomly-generated number is 1223 as the digit 2 has been used twice in the four-digit number.\n",
    "The player is asked to enter a four-digit number. This is compared to the randomly-generated four-digit\n",
    "number. Each individual digit entered by the player is compared to each digit within the randomlygenerated\n",
    "number. If a digit is in the randomly-generated number and is in the same position in the\n",
    "randomly-generated number as it was in the player’s number then the digit is a “bull”. If the digit is in the\n",
    "randomly-generated number but is in a different position then the digit is a “cow”.\n",
    "The player has won the game when they have correctly guessed the four digit randomly-generated\n",
    "number. A record is kept of the number of guesses it took to guess the correct number."
   ]
  },
  {
   "cell_type": "code",
   "execution_count": null,
   "metadata": {
    "collapsed": true
   },
   "outputs": [],
   "source": [
    "import random\n",
    " \n",
    "num='0123456789'\n",
    "\n",
    "def validate(guess):\n",
    "  if len(guess) != 4:\n",
    "    print(\"Wrong length\")\n",
    "    return False\n",
    "  for i in range(4):\n",
    "    if guess[i] not in num:\n",
    "      print(\"Not a number\")\n",
    "      return False\n",
    "    if guess[i] in guess[i+1:4]:\n",
    "      print(\"Contains duplicates\")\n",
    "      return False\n",
    "  return True"
   ]
  },
  {
   "cell_type": "code",
   "execution_count": null,
   "metadata": {
    "collapsed": true
   },
   "outputs": [],
   "source": [
    "def compare(guess,code):\n",
    "  bulls=0\n",
    "  cows=0\n",
    "  remaining_guess=[]\n",
    "  remaining_code=[]\n",
    "  for i in range(4):\n",
    "    if guess[i] == code[i]:\n",
    "      bulls+=1\n",
    "    else:\n",
    "      remaining_guess.append(guess[i])\n",
    "      remaining_code.append(code[i])\n",
    "  for x in remaining_guess:\n",
    "    if x in remaining_code:\n",
    "      cows+=1\n",
    "      remaining_code.remove(x)\n",
    "  return (bulls,cows)"
   ]
  },
  {
   "cell_type": "code",
   "execution_count": null,
   "metadata": {
    "collapsed": true
   },
   "outputs": [],
   "source": [
    "code=''.join(random.sample(num,4))\n",
    "attempts=0 \n",
    " \n",
    "while True:\n",
    "  guess=input('Enter any four digits: ')\n",
    "  if guess == \"exit\":\n",
    "    print('The code was %s' % code)\n",
    "    break\n",
    "    \n",
    "  if validate(guess):\n",
    "    attempts += 1\n",
    "    (bulls,cows)=compare(guess,code)\n",
    "    if bulls == 4:\n",
    "      print('Congrats, you cracked the code! in %d attempts' % attempts)\n",
    "      break\n",
    "    else:\n",
    "      print('You have %d bulls and %d cows' % (bulls, cows))\n",
    "  else:\n",
    "    print(\"Guess again\")"
   ]
  },
  {
   "cell_type": "markdown",
   "metadata": {},
   "source": [
    "### Demonstrating binary search\n",
    "\n",
    "From QuickStart Computing"
   ]
  },
  {
   "cell_type": "code",
   "execution_count": 13,
   "metadata": {},
   "outputs": [
    {
     "name": "stdout",
     "output_type": "stream",
     "text": [
      "I'm thinking of a number between 0 and 127\n",
      "What's your guess? 64\n",
      "Too high!\n",
      "What's your guess? 32\n",
      "Too high!\n",
      "What's your guess? 16\n",
      "Too high!\n",
      "What's your guess? 8\n",
      "Too low!\n",
      "What's your guess? 12\n",
      "Too low!\n",
      "What's your guess? 14\n",
      "Too high!\n",
      "What's your guess? 13\n",
      "Yay!\n"
     ]
    }
   ],
   "source": [
    "from random import randint\n",
    "\n",
    "secret = randint(0,127)\n",
    "\n",
    "print (\"I'm thinking of a number between 0 and 127\")\n",
    "\n",
    "guess = -1\n",
    "\n",
    "while guess != secret:\n",
    "    guess = int(input(\"What's your guess? \"))\n",
    "    if guess < secret:\n",
    "        print(\"Too low!\")\n",
    "    if guess > secret:\n",
    "        print(\"Too high!\")\n",
    "\n",
    "print(\"Yay!\")"
   ]
  },
  {
   "cell_type": "markdown",
   "metadata": {},
   "source": [
    "### Turtle graphics\n",
    "\n",
    "What's the code for this image?\n",
    "\n",
    "<img src=\"./squares.png\" width=\"300px\" align=\"left\">\n",
    "\n"
   ]
  },
  {
   "cell_type": "code",
   "execution_count": 9,
   "metadata": {},
   "outputs": [],
   "source": [
    "from turtle import *\n",
    "setup(500,500)\n",
    "speed(0)\n",
    "\n",
    "for i in range(10):\n",
    "    for j in range(4):\n",
    "        forward(100)\n",
    "        right(90)\n",
    "    right(36)\n",
    "done()"
   ]
  },
  {
   "cell_type": "markdown",
   "metadata": {
    "collapsed": true
   },
   "source": [
    "### Debugging challenge\n",
    "\n",
    "How many mistakes can you spot (and correct) in this Python code?"
   ]
  },
  {
   "cell_type": "code",
   "execution_count": null,
   "metadata": {},
   "outputs": [],
   "source": [
    "import Random\n",
    "a = random.randint(1,12)\n",
    "b = random.randint(1,12)\n",
    "for i in range(l0):\n",
    "  question = \"What is \"+a+\" x \"+b+\"? \"\n",
    "  answer = input(question)\n",
    "  if answer == a*b\n",
    "    print (Well done!)\n",
    "  else:\n",
    "    print(\"No.\")"
   ]
  },
  {
   "cell_type": "code",
   "execution_count": null,
   "metadata": {
    "collapsed": true
   },
   "outputs": [],
   "source": []
  }
 ],
 "metadata": {
  "kernelspec": {
   "display_name": "Python 3",
   "language": "python",
   "name": "python3"
  },
  "language_info": {
   "codemirror_mode": {
    "name": "ipython",
    "version": 3
   },
   "file_extension": ".py",
   "mimetype": "text/x-python",
   "name": "python",
   "nbconvert_exporter": "python",
   "pygments_lexer": "ipython3",
   "version": "3.6.1"
  }
 },
 "nbformat": 4,
 "nbformat_minor": 2
}
